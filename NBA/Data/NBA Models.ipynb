{
 "cells": [
  {
   "cell_type": "code",
   "execution_count": 2,
   "metadata": {},
   "outputs": [],
   "source": [
    "import pandas as pd"
   ]
  },
  {
   "cell_type": "code",
   "execution_count": 25,
   "metadata": {},
   "outputs": [
    {
     "name": "stdout",
     "output_type": "stream",
     "text": [
      "     VH_y      Team_H  Final_H  Unnamed: 0_x             TEAM_NAME_x  \\\n",
      "0       1  1610612751      125           8.0           Brooklyn Nets   \n",
      "1       1  1610612747      109          18.0      Los Angeles Lakers   \n",
      "2       1  1610612739      121          23.0     Cleveland Cavaliers   \n",
      "3       1  1610612754      121          12.0          Indiana Pacers   \n",
      "4       1  1610612753      113          15.0           Orlando Magic   \n",
      "..    ...         ...      ...           ...                     ...   \n",
      "528     1  1610612759      102          14.0       San Antonio Spurs   \n",
      "529     1  1610612740       93          17.0    New Orleans Pelicans   \n",
      "530     1  1610612757      123          19.0  Portland Trail Blazers   \n",
      "531     1  1610612752      114          29.0         New York Knicks   \n",
      "532     1  1610612756      120          28.0            Phoenix Suns   \n",
      "\n",
      "        TEAM_ID_x  GP_x   W_x   L_x  W_PCT_x  ...  MIN_RANK_y  \\\n",
      "0    1.610613e+09  37.0  24.0  13.0    0.649  ...         4.0   \n",
      "1    1.610613e+09  37.0  24.0  13.0    0.649  ...         1.0   \n",
      "2    1.610613e+09  36.0  14.0  22.0    0.389  ...        23.0   \n",
      "3    1.610613e+09  35.0  16.0  19.0    0.457  ...         5.0   \n",
      "4    1.610613e+09  36.0  13.0  23.0    0.361  ...         9.0   \n",
      "..            ...   ...   ...   ...      ...  ...         ...   \n",
      "528  1.610613e+09  33.0  18.0  15.0    0.545  ...         9.0   \n",
      "529  1.610613e+09  36.0  15.0  21.0    0.417  ...         9.0   \n",
      "530  1.610613e+09  35.0  21.0  14.0    0.600  ...        15.0   \n",
      "531  1.610613e+09  37.0  19.0  18.0    0.514  ...         6.0   \n",
      "532  1.610613e+09  35.0  24.0  11.0    0.686  ...         4.0   \n",
      "\n",
      "     E_OFF_RATING_RANK_y  E_DEF_RATING_RANK_y  E_NET_RATING_RANK_y  \\\n",
      "0                   22.0                  5.0                 11.0   \n",
      "1                    2.0                 15.0                  2.0   \n",
      "2                   16.0                 19.0                 20.0   \n",
      "3                   23.0                  4.0                 15.0   \n",
      "4                   24.0                  8.0                 22.0   \n",
      "..                   ...                  ...                  ...   \n",
      "528                 30.0                  9.0                 26.0   \n",
      "529                 24.0                  8.0                 22.0   \n",
      "530                  9.0                 30.0                 26.0   \n",
      "531                 25.0                 20.0                 25.0   \n",
      "532                 22.0                  5.0                 11.0   \n",
      "\n",
      "     E_AST_RATIO_RANK_y  E_OREB_PCT_RANK_y  E_DREB_PCT_RANK_y  \\\n",
      "0                   2.0               29.0               28.0   \n",
      "1                  15.0               15.0                7.0   \n",
      "2                   4.0                7.0               26.0   \n",
      "3                  29.0               11.0               10.0   \n",
      "4                   7.0               28.0               19.0   \n",
      "..                  ...                ...                ...   \n",
      "528                24.0               30.0               11.0   \n",
      "529                 7.0               28.0               19.0   \n",
      "530                10.0               12.0               30.0   \n",
      "531                18.0               16.0               25.0   \n",
      "532                 2.0               29.0               28.0   \n",
      "\n",
      "     E_REB_PCT_RANK_y  E_TM_TOV_PCT_RANK_y  E_PACE_RANK_y  \n",
      "0                29.0                 20.0            2.0  \n",
      "1                 8.0                 12.0           27.0  \n",
      "2                17.0                 27.0           12.0  \n",
      "3                 7.0                 18.0           30.0  \n",
      "4                18.0                 29.0           26.0  \n",
      "..                ...                  ...            ...  \n",
      "528              27.0                 21.0           10.0  \n",
      "529              18.0                 29.0           26.0  \n",
      "530              20.0                  8.0           10.0  \n",
      "531              22.0                 24.0           25.0  \n",
      "532              29.0                 20.0            2.0  \n",
      "\n",
      "[533 rows x 68 columns]\n"
     ]
    }
   ],
   "source": [
    "adv_stats = pd.read_csv(\"adv_stats.csv\")\n",
    "hist_odds = pd.read_csv(\"hist_odds.csv\")\n",
    "mom_stats = pd.read_csv(\"momentum.csv\")\n",
    "today_lines = pd.read_csv(\"today_lines.csv\")\n",
    "team_id = {'Washington' : 1610612764, 'GoldenState' : 1610612744, 'Minnesota' : 1610612750, 'Houston' : 1610612745, 'Milwaukee' : 1610612749, 'Chicago' : 1610612741, 'Philadelphia': 1610612755, 'Memphis' : 1610612763, 'Brooklyn' : 1610612751, \n",
    "           'OklahomaCity' : 1610612760, 'Sacramento' : 1610612758, 'Charlotte' : 1610612766, 'Indiana' : 1610612754, 'SanAntonio' : 1610612759, 'Orlando' : 1610612753, 'Utah' : 1610612762, 'NewOrleans' : 1610612740, 'LALakers': 1610612747, 'Portland' : 1610612757, \n",
    "           'Dallas' : 1610612742, 'Atlanta' : 1610612737, 'Boston' : 1610612738, 'Cleveland' : 1610612739, 'Detroit': 1610612765, 'Miami' : 1610612748, 'LAClippers' : 1610612746, 'Denver' : 1610612743, 'Phoenix' : 1610612756, 'NewYork' : 1610612752}\n",
    "hist_odds = hist_odds.replace(team_id)\n",
    "hist_odds['win'] = [1 if y > x else 0 for x,y in zip(hist_odds['Final_V'], hist_odds['Final_H'])]\n",
    "home_team = hist_odds[[\"VH_y\", \"Team_H\", \"Final_H\"]]\n",
    "away_team = hist_odds[['VH_x', \"Team_V\", \"Final_V\"]]\n",
    "\n",
    "home_team = pd.merge(left = home_team, right = adv_stats, left_on = \"Team_H\", right_on = \"TEAM_ID\", how = \"left\")\n",
    "away_team = pd.merge(left = away_team, right = adv_stats, left_on = \"Team_V\", right_on = \"TEAM_ID\", how = \"left\")\n",
    "model_stats = pd.merge(left = home_team, right = away_team, left_index = True, right_index = True, how = \"outer\")\n"
   ]
  },
  {
   "cell_type": "code",
   "execution_count": null,
   "metadata": {},
   "outputs": [],
   "source": []
  }
 ],
 "metadata": {
  "kernelspec": {
   "display_name": "Python 3",
   "language": "python",
   "name": "python3"
  },
  "language_info": {
   "codemirror_mode": {
    "name": "ipython",
    "version": 3
   },
   "file_extension": ".py",
   "mimetype": "text/x-python",
   "name": "python",
   "nbconvert_exporter": "python",
   "pygments_lexer": "ipython3",
   "version": "3.7.1"
  }
 },
 "nbformat": 4,
 "nbformat_minor": 2
}
