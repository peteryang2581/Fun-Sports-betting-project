{
 "cells": [
  {
   "cell_type": "code",
   "execution_count": 2,
   "metadata": {},
   "outputs": [],
   "source": [
    "import pandas as pd"
   ]
  },
  {
   "cell_type": "code",
   "execution_count": 32,
   "metadata": {},
   "outputs": [
    {
     "name": "stdout",
     "output_type": "stream",
     "text": [
      "     Unnamed: 0  VH_x      Team_V  Final_V    O/U  ML_V  VH_y      Team_H  \\\n",
      "0             0     0  1610612744       99  228.0   265     1  1610612751   \n",
      "1             1     0  1610612746      116  223.0   115     1  1610612747   \n",
      "2             2     0  1610612766      114  215.0  -140     1  1610612739   \n",
      "3             3     0  1610612752      107  214.5   270     1  1610612754   \n",
      "4             4     0  1610612748      107  220.5  -190     1  1610612753   \n",
      "..          ...   ...         ...      ...    ...   ...   ...         ...   \n",
      "528         528     0  1610612760      107  218.5   230     1  1610612759   \n",
      "529         529     0  1610612748      103  225.0  -130     1  1610612740   \n",
      "530         530     0  1610612758      119  238.0   160     1  1610612757   \n",
      "531         531     0  1610612765      104  211.0   245     1  1610612752   \n",
      "532         532     0  1610612744       98  223.0   550     1  1610612756   \n",
      "\n",
      "     Final_H   line  ML_H  win  \n",
      "0        125    5.5  -320    1  \n",
      "1        109    2.5  -135    0  \n",
      "2        121   -1.0   120    1  \n",
      "3        121    8.5  -330    1  \n",
      "4        113 -220.5   170    1  \n",
      "..       ...    ...   ...  ...  \n",
      "528      102    6.0  -270    0  \n",
      "529       93   -3.5   110    0  \n",
      "530      123    5.0  -180    1  \n",
      "531      114    5.0  -290    1  \n",
      "532      120    5.0  -800    1  \n",
      "\n",
      "[533 rows x 12 columns]\n"
     ]
    }
   ],
   "source": [
    "adv_stats = pd.read_csv(\"adv_stats.csv\")\n",
    "hist_odds = pd.read_csv(\"hist_odds.csv\")\n",
    "mom_stats = pd.read_csv(\"momentum.csv\")\n",
    "today_lines = pd.read_csv(\"today_lines.csv\")\n",
    "team_id = {'Washington' : 1610612764, 'GoldenState' : 1610612744, 'Minnesota' : 1610612750, 'Houston' : 1610612745, 'Milwaukee' : 1610612749, 'Chicago' : 1610612741, 'Philadelphia': 1610612755, 'Memphis' : 1610612763, 'Brooklyn' : 1610612751, \n",
    "           'OklahomaCity' : 1610612760, 'Sacramento' : 1610612758, 'Charlotte' : 1610612766, 'Indiana' : 1610612754, 'Toronto': 1610612761, 'SanAntonio' : 1610612759, 'Orlando' : 1610612753, 'Utah' : 1610612762, 'NewOrleans' : 1610612740, 'LALakers': 1610612747, \n",
    "           'Portland' : 1610612757, 'Dallas' : 1610612742, 'Atlanta' : 1610612737, 'Boston' : 1610612738, 'Cleveland' : 1610612739, 'Detroit': 1610612765, 'Miami' : 1610612748, 'LAClippers' : 1610612746, 'Denver' : 1610612743, 'Phoenix' : 1610612756, 'NewYork' : 1610612752}\n",
    "hist_odds = hist_odds.replace(team_id)\n",
    "hist_odds['win'] = [1 if x > y else 0 for x,y in zip(hist_odds['Final_H'], hist_odds['Final_V'])]\n",
    "print(hist_odds)\n",
    "hist_odds['fav'] = [1 if x > y else 0 for x,y in zip(hist_odds['ML_H'], hist_odds['ML_V'])]\n",
    "home_team = hist_odds[[\"VH_y\", \"Team_H\", \"Final_H\"]]\n",
    "away_team = hist_odds[['VH_x', \"Team_V\", \"Final_V\"]]\n",
    "\n",
    "home_team = pd.merge(left = home_team, right = adv_stats, left_on = \"Team_H\", right_on = \"TEAM_ID\", how = \"left\")\n",
    "away_team = pd.merge(left = away_team, right = adv_stats, left_on = \"Team_V\", right_on = \"TEAM_ID\", how = \"left\")\n",
    "model_stats = pd.merge(left = home_team, right = away_team, left_index = True, right_index = True, how = \"outer\")\n",
    "model_stats['win'] = hist_odds['win']\n",
    "model_stats['fav'] = hist_odds['fav']\n",
    "model_stats.to_csv('model_stats.csv')"
   ]
  },
  {
   "cell_type": "markdown",
   "metadata": {},
   "source": [
    "Logistic Regression"
   ]
  },
  {
   "cell_type": "code",
   "execution_count": 37,
   "metadata": {},
   "outputs": [
    {
     "name": "stdout",
     "output_type": "stream",
     "text": [
      "Optimization terminated successfully.\n",
      "         Current function value: 0.612161\n",
      "         Iterations 6\n",
      "                           Logit Regression Results                           \n",
      "==============================================================================\n",
      "Dep. Variable:                    win   No. Observations:                  533\n",
      "Model:                          Logit   Df Residuals:                      509\n",
      "Method:                           MLE   Df Model:                           23\n",
      "Date:                Fri, 12 Mar 2021   Pseudo R-squ.:                  0.1138\n",
      "Time:                        20:43:09   Log-Likelihood:                -326.28\n",
      "converged:                       True   LL-Null:                       -368.16\n",
      "                                        LLR p-value:                 7.731e-09\n",
      "==================================================================================\n",
      "                     coef    std err          z      P>|z|      [0.025      0.975]\n",
      "----------------------------------------------------------------------------------\n",
      "W_PCT_x            5.0950      2.496      2.041      0.041       0.203       9.987\n",
      "W_PCT_y           -4.4092      2.590     -1.703      0.089      -9.485       0.666\n",
      "VH_y               5.3911     23.516      0.229      0.819     -40.700      51.482\n",
      "E_OFF_RATING_x     2.8991      4.491      0.646      0.519      -5.903      11.702\n",
      "E_OFF_RATING_y     2.3232      4.634      0.501      0.616      -6.759      11.405\n",
      "E_DEF_RATING_x    -2.9266      4.499     -0.650      0.515     -11.745       5.892\n",
      "E_DEF_RATING_y    -2.3596      4.641     -0.508      0.611     -11.455       6.736\n",
      "E_NET_RATING_x    -2.9103      4.496     -0.647      0.517     -11.723       5.903\n",
      "E_PACE_x           0.0474      0.061      0.780      0.436      -0.072       0.167\n",
      "E_AST_RATIO_x     -0.0653      0.114     -0.574      0.566      -0.289       0.158\n",
      "E_OREB_PCT_x       3.9942     12.925      0.309      0.757     -21.339      29.327\n",
      "E_DREB_PCT_x     -16.1664     22.221     -0.728      0.467     -59.718      27.386\n",
      "E_REB_PCT_x        7.9962     32.922      0.243      0.808     -56.530      72.523\n",
      "E_TM_TOV_PCT_x    -0.7066     17.346     -0.041      0.968     -34.705      33.292\n",
      "E_NET_RATING_y    -2.3318      4.642     -0.502      0.615     -11.430       6.767\n",
      "E_PACE_y           0.0429      0.062      0.695      0.487      -0.078       0.164\n",
      "E_AST_RATIO_y     -0.0801      0.113     -0.711      0.477      -0.301       0.141\n",
      "E_OREB_PCT_y       4.9439     13.133      0.376      0.707     -20.797      30.685\n",
      "E_DREB_PCT_y     -12.0723     22.350     -0.540      0.589     -55.877      31.732\n",
      "E_REB_PCT_y        6.7874     32.523      0.209      0.835     -56.956      70.530\n",
      "E_TM_TOV_PCT_y     1.8968     17.816      0.106      0.915     -33.021      36.815\n",
      "MIN_x              0.0021      0.002      0.944      0.345      -0.002       0.007\n",
      "MIN_y              0.0021      0.002      0.914      0.361      -0.002       0.007\n",
      "fav                0.0604      0.245      0.246      0.806      -0.420       0.541\n",
      "==================================================================================\n",
      "Accuracy of logistic regression classifier on test set: 0.66\n"
     ]
    }
   ],
   "source": [
    "import statsmodels.api as sm\n",
    "from sklearn.model_selection import train_test_split\n",
    "from sklearn.linear_model import LogisticRegression\n",
    "from sklearn import metrics\n",
    "\n",
    "to_keep = ['W_PCT_x', 'W_PCT_y', 'VH_y', 'E_OFF_RATING_x', 'E_OFF_RATING_y', 'E_DEF_RATING_x', 'E_DEF_RATING_y', 'E_NET_RATING_x', 'E_PACE_x', 'E_AST_RATIO_x', 'E_OREB_PCT_x' , 'E_DREB_PCT_x',\n",
    "           'E_REB_PCT_x', 'E_TM_TOV_PCT_x', 'E_NET_RATING_y' , 'E_PACE_y', 'E_AST_RATIO_y', 'E_OREB_PCT_y' ,'E_DREB_PCT_y', 'E_REB_PCT_y', 'E_TM_TOV_PCT_y', 'MIN_x', 'MIN_y', 'fav']\n",
    "model_stats_x = model_stats[to_keep]\n",
    "col_names = ['W_PCT_HOME', 'W_PCT_AWAY', 'home_team', 'E_OFF_RATING_HOME', 'E_OFF_RATING_AWAY', 'E_DEF_RATING_HOME', 'E_DEF_RATING_AWAY', 'E_NET_RATING_HOME', 'E_PACE_HOME', 'E_AST_RATIO_HOME', 'E_OREB_PCT_HOME' , 'E_DREB_PCT_HOME',\n",
    "           'E_REB_PCT_HOME', 'E_TM_TOV_PCT_HOME', 'E_NET_RATING_AWAY' , 'E_PACE_AWAY', 'E_AST_RATIO_AWAY', 'E_OREB_PCT_AWAY' ,'E_DREB_PCT_AWAY', 'E_REB_PCT_AWAY', 'E_TM_TOV_PCT_AWAY', 'MIN_HOME', 'MIN_AWAY', 'fav']\n",
    "model_stats_x = model_stats[to_keep]\n",
    "logit_model=sm.Logit(model_stats['win'],model_stats_x)\n",
    "result=logit_model.fit()\n",
    "print(result.summary())\n",
    "\n",
    "\n",
    "X_train, X_test, y_train, y_test = train_test_split(model_stats_x, model_stats['win'], test_size=0.3, random_state=0)\n",
    "logreg = LogisticRegression(max_iter = 1000)\n",
    "logreg.fit(X_train, y_train)\n",
    "y_pred = logreg.predict(X_test)\n",
    "print('Accuracy of logistic regression classifier on test set: {:.2f}'.format(logreg.score(X_test, y_test)))"
   ]
  },
  {
   "cell_type": "code",
   "execution_count": null,
   "metadata": {},
   "outputs": [],
   "source": []
  }
 ],
 "metadata": {
  "kernelspec": {
   "display_name": "Python 3",
   "language": "python",
   "name": "python3"
  },
  "language_info": {
   "codemirror_mode": {
    "name": "ipython",
    "version": 3
   },
   "file_extension": ".py",
   "mimetype": "text/x-python",
   "name": "python",
   "nbconvert_exporter": "python",
   "pygments_lexer": "ipython3",
   "version": "3.7.1"
  }
 },
 "nbformat": 4,
 "nbformat_minor": 2
}
