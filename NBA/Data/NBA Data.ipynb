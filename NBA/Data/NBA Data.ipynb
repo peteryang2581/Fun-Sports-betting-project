{
 "cells": [
  {
   "cell_type": "code",
   "execution_count": 1,
   "metadata": {},
   "outputs": [],
   "source": [
    "import pandas as pd\n",
    "from nba_api.stats.endpoints import teamestimatedmetrics\n",
    "from nba_api.stats.endpoints import teamdashboardbylastngames\n",
    "import time\n",
    "time.sleep(.600)\n",
    "adv_team_stats = teamestimatedmetrics.TeamEstimatedMetrics(league_id = \"00\", season = \"2020-21\", season_type = \"Regular Season\" )\n"
   ]
  },
  {
   "cell_type": "code",
   "execution_count": 7,
   "metadata": {},
   "outputs": [
    {
     "name": "stdout",
     "output_type": "stream",
     "text": [
      "<class 'str'>\n",
      "<class 'str'>\n",
      "<class 'str'>\n",
      "<class 'str'>\n",
      "<class 'str'>\n",
      "<class 'str'>\n",
      "<class 'str'>\n",
      "<class 'str'>\n",
      "<class 'str'>\n",
      "<class 'str'>\n",
      "<class 'str'>\n",
      "<class 'str'>\n",
      "<class 'str'>\n",
      "<class 'str'>\n",
      "<class 'str'>\n",
      "<class 'str'>\n",
      "<class 'str'>\n",
      "<class 'str'>\n",
      "<class 'str'>\n",
      "<class 'str'>\n",
      "<class 'str'>\n",
      "<class 'str'>\n",
      "<class 'str'>\n",
      "<class 'str'>\n",
      "<class 'str'>\n",
      "<class 'str'>\n",
      "<class 'str'>\n",
      "<class 'str'>\n",
      "<class 'str'>\n",
      "<class 'str'>\n"
     ]
    }
   ],
   "source": [
    "adv_stats = adv_team_stats.get_data_frames()[0]\n",
    "teams = adv_stats[['TEAM_NAME','TEAM_ID']]\n",
    "for index, row in teams.iterrows():\n"
   ]
  },
  {
   "cell_type": "code",
   "execution_count": 9,
   "metadata": {},
   "outputs": [],
   "source": [
    "mom_stats = pd.DataFrame()\n",
    "team_name = []\n",
    "for index, row in teams.iterrows():\n",
    "    time.sleep(.600)\n",
    "    mom_team_stats = teamdashboardbylastngames.TeamDashboardByLastNGames(last_n_games = \"10\", season = \"2020-21\", team_id = row[1])\n",
    "    mom_team = mom_team_stats.get_data_frames()[0]\n",
    "    mom_team = mom_team[['W_PCT', 'FGM', 'FG_PCT', 'FG3M', 'FG3_PCT', 'FT_PCT', 'OREB', 'REB', 'AST', 'TOV', 'STL', 'BLK', 'PLUS_MINUS']]\n",
    "    mom_stats = mom_stats.append(mom_team)\n",
    "    team_name.append(row[0])"
   ]
  },
  {
   "cell_type": "code",
   "execution_count": 11,
   "metadata": {},
   "outputs": [
    {
     "name": "stdout",
     "output_type": "stream",
     "text": [
      "   W_PCT  FGM  FG_PCT  FG3M  FG3_PCT  FT_PCT  OREB  REB  AST    TOV  STL  BLK  \\\n",
      "0    0.7  435   0.490   103    0.369   0.768    89  444  252  147.0   88   32   \n",
      "0    0.5  413   0.466   131    0.355   0.798    80  417  296  158.0   93   38   \n",
      "0    0.1  396   0.424   131    0.338   0.821    94  431  271  163.0   88   57   \n",
      "0    0.0  354   0.402   117    0.281   0.777    93  389  198  133.0   83   49   \n",
      "0    0.6  416   0.463   125    0.351   0.744   106  491  235  136.0   75   50   \n",
      "0    0.6  447   0.497   112    0.366   0.816    92  455  255  148.0   59   51   \n",
      "0    0.6  406   0.475   107    0.384   0.810    96  450  234  149.0   82   61   \n",
      "0    0.5  425   0.458    92    0.327   0.812   111  466  235  130.0  109   30   \n",
      "0    0.9  454   0.513   177    0.434   0.738    92  439  287  118.0   74   40   \n",
      "0    0.4  364   0.434   134    0.341   0.745    70  424  219  145.0   64   35   \n",
      "0    0.2  453   0.491   120    0.370   0.718   114  404  267  124.0   64   34   \n",
      "0    0.5  435   0.496   143    0.403   0.821    97  430  246  181.0   89   41   \n",
      "0    0.4  419   0.475   111    0.350   0.826    79  391  263  144.0   94   63   \n",
      "0    0.5  386   0.454   145    0.369   0.854    77  389  257  132.0   68   54   \n",
      "0    0.6  409   0.458   113    0.365   0.808    81  445  252  117.0   79   49   \n",
      "0    0.4  397   0.443   134    0.372   0.821    79  449  239  111.0   70   47   \n",
      "0    0.6  428   0.472   175    0.392   0.802   104  452  239  132.0   82   42   \n",
      "0    0.4  455   0.507   112    0.364   0.737   120  463  282  128.0   73   41   \n",
      "0    0.3  404   0.467   102    0.317   0.721   103  443  231  147.0   74   61   \n",
      "0    0.8  412   0.487   145    0.377   0.813    72  429  227  125.0   55   48   \n",
      "0    0.6  404   0.455   165    0.381   0.810   104  435  202  125.0   63   60   \n",
      "0    0.5  396   0.468   132    0.377   0.842   119  442  230  144.0   77   45   \n",
      "0    0.6  422   0.487   117    0.357   0.795   108  431  234  142.0   71   56   \n",
      "0    0.4  400   0.466   103    0.355   0.747   111  440  244  178.0   75   48   \n",
      "0    0.3  392   0.464   128    0.356   0.751    89  421  252  141.0   79   52   \n",
      "0    0.7  395   0.465   117    0.341   0.823    88  431  269  129.0   79   40   \n",
      "0    0.4  421   0.483   142    0.409   0.826    95  446  246  137.0   49   39   \n",
      "0    0.6  445   0.513   134    0.407   0.837    82  419  252  134.0   76   42   \n",
      "0    0.8  455   0.511   145    0.429   0.851    72  419  303  113.0   72   47   \n",
      "0    0.7  404   0.476   121    0.425   0.829    93  446  214  139.0   65   44   \n",
      "\n",
      "   PLUS_MINUS  \n",
      "0        10.0  \n",
      "0         4.0  \n",
      "0      -121.0  \n",
      "0      -171.0  \n",
      "0         2.0  \n",
      "0         9.0  \n",
      "0        27.0  \n",
      "0        21.0  \n",
      "0       105.0  \n",
      "0       -53.0  \n",
      "0       -67.0  \n",
      "0       -26.0  \n",
      "0       -10.0  \n",
      "0        -2.0  \n",
      "0        20.0  \n",
      "0       -50.0  \n",
      "0        84.0  \n",
      "0        10.0  \n",
      "0       -28.0  \n",
      "0        47.0  \n",
      "0       -19.0  \n",
      "0         5.0  \n",
      "0        13.0  \n",
      "0       -72.0  \n",
      "0       -21.0  \n",
      "0        31.0  \n",
      "0       -12.0  \n",
      "0        74.0  \n",
      "0       153.0  \n",
      "0        36.0  \n",
      "['Washington Wizards', 'Golden State Warriors', 'Minnesota Timberwolves', 'Houston Rockets', 'Milwaukee Bucks', 'Chicago Bulls', 'Philadelphia 76ers', 'Memphis Grizzlies', 'Brooklyn Nets', 'Oklahoma City Thunder', 'Sacramento Kings', 'Charlotte Hornets', 'Indiana Pacers', 'Toronto Raptors', 'San Antonio Spurs', 'Orlando Magic', 'Utah Jazz', 'New Orleans Pelicans', 'Los Angeles Lakers', 'Dallas Mavericks', 'Portland Trail Blazers', 'Atlanta Hawks', 'Boston Celtics', 'Cleveland Cavaliers', 'Detroit Pistons', 'Miami Heat', 'LA Clippers', 'Denver Nuggets', 'Phoenix Suns', 'New York Knicks']\n"
     ]
    }
   ],
   "source": [
    "print(mom_stats)\n",
    "print(team_name)"
   ]
  },
  {
   "cell_type": "code",
   "execution_count": null,
   "metadata": {},
   "outputs": [],
   "source": []
  }
 ],
 "metadata": {
  "kernelspec": {
   "display_name": "Python 3",
   "language": "python",
   "name": "python3"
  },
  "language_info": {
   "codemirror_mode": {
    "name": "ipython",
    "version": 3
   },
   "file_extension": ".py",
   "mimetype": "text/x-python",
   "name": "python",
   "nbconvert_exporter": "python",
   "pygments_lexer": "ipython3",
   "version": "3.7.1"
  }
 },
 "nbformat": 4,
 "nbformat_minor": 2
}
