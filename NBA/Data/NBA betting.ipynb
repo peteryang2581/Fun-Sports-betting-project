{
 "cells": [
  {
   "cell_type": "code",
   "execution_count": 3,
   "metadata": {},
   "outputs": [],
   "source": [
    "import pandas as pd\n",
    "import requests\n",
    "from bs4 import BeautifulSoup\n",
    "\n"
   ]
  },
  {
   "cell_type": "code",
   "execution_count": null,
   "metadata": {},
   "outputs": [],
   "source": []
  },
  {
   "cell_type": "markdown",
   "metadata": {},
   "source": [
    "Historical season betting data"
   ]
  },
  {
   "cell_type": "code",
   "execution_count": 13,
   "metadata": {},
   "outputs": [
    {
     "name": "stderr",
     "output_type": "stream",
     "text": [
      "C:\\Users\\thyang\\Anaconda3\\lib\\site-packages\\ipykernel_launcher.py:5: SettingWithCopyWarning: \n",
      "A value is trying to be set on a copy of a slice from a DataFrame.\n",
      "Try using .loc[row_indexer,col_indexer] = value instead\n",
      "\n",
      "See the caveats in the documentation: https://pandas.pydata.org/pandas-docs/stable/user_guide/indexing.html#returning-a-view-versus-a-copy\n",
      "  \"\"\"\n",
      "C:\\Users\\thyang\\Anaconda3\\lib\\site-packages\\ipykernel_launcher.py:6: SettingWithCopyWarning: \n",
      "A value is trying to be set on a copy of a slice from a DataFrame.\n",
      "Try using .loc[row_indexer,col_indexer] = value instead\n",
      "\n",
      "See the caveats in the documentation: https://pandas.pydata.org/pandas-docs/stable/user_guide/indexing.html#returning-a-view-versus-a-copy\n",
      "  \n",
      "C:\\Users\\thyang\\Anaconda3\\lib\\site-packages\\ipykernel_launcher.py:7: SettingWithCopyWarning: \n",
      "A value is trying to be set on a copy of a slice from a DataFrame.\n",
      "Try using .loc[row_indexer,col_indexer] = value instead\n",
      "\n",
      "See the caveats in the documentation: https://pandas.pydata.org/pandas-docs/stable/user_guide/indexing.html#returning-a-view-versus-a-copy\n",
      "  import sys\n",
      "C:\\Users\\thyang\\Anaconda3\\lib\\site-packages\\ipykernel_launcher.py:8: SettingWithCopyWarning: \n",
      "A value is trying to be set on a copy of a slice from a DataFrame.\n",
      "Try using .loc[row_indexer,col_indexer] = value instead\n",
      "\n",
      "See the caveats in the documentation: https://pandas.pydata.org/pandas-docs/stable/user_guide/indexing.html#returning-a-view-versus-a-copy\n",
      "  \n",
      "C:\\Users\\thyang\\Anaconda3\\lib\\site-packages\\ipykernel_launcher.py:14: SettingWithCopyWarning: \n",
      "A value is trying to be set on a copy of a slice from a DataFrame.\n",
      "Try using .loc[row_indexer,col_indexer] = value instead\n",
      "\n",
      "See the caveats in the documentation: https://pandas.pydata.org/pandas-docs/stable/user_guide/indexing.html#returning-a-view-versus-a-copy\n",
      "  \n",
      "C:\\Users\\thyang\\Anaconda3\\lib\\site-packages\\ipykernel_launcher.py:15: SettingWithCopyWarning: \n",
      "A value is trying to be set on a copy of a slice from a DataFrame.\n",
      "Try using .loc[row_indexer,col_indexer] = value instead\n",
      "\n",
      "See the caveats in the documentation: https://pandas.pydata.org/pandas-docs/stable/user_guide/indexing.html#returning-a-view-versus-a-copy\n",
      "  from ipykernel import kernelapp as app\n",
      "C:\\Users\\thyang\\Anaconda3\\lib\\site-packages\\ipykernel_launcher.py:16: SettingWithCopyWarning: \n",
      "A value is trying to be set on a copy of a slice from a DataFrame.\n",
      "Try using .loc[row_indexer,col_indexer] = value instead\n",
      "\n",
      "See the caveats in the documentation: https://pandas.pydata.org/pandas-docs/stable/user_guide/indexing.html#returning-a-view-versus-a-copy\n",
      "  app.launch_new_instance()\n",
      "C:\\Users\\thyang\\Anaconda3\\lib\\site-packages\\ipykernel_launcher.py:17: SettingWithCopyWarning: \n",
      "A value is trying to be set on a copy of a slice from a DataFrame.\n",
      "Try using .loc[row_indexer,col_indexer] = value instead\n",
      "\n",
      "See the caveats in the documentation: https://pandas.pydata.org/pandas-docs/stable/user_guide/indexing.html#returning-a-view-versus-a-copy\n"
     ]
    }
   ],
   "source": [
    "hist_odds = pd.read_excel(\"nba odds 2020-21.xlsx\")\n",
    "hist_vist = hist_odds.iloc[::2]\n",
    "hist_vist.index = range(533) \n",
    "hist_vist.loc[:, 'VH'] = 0\n",
    "hist_vist['Team_V'] = hist_vist.loc[:, 'Team']\n",
    "hist_vist['Final_V'] = hist_vist.loc[:,'Final']\n",
    "hist_vist['O/U'] = hist_vist.loc[:,'Open']\n",
    "hist_vist['ML_V'] = hist_vist.loc[:,'ML']\n",
    "hist_vist = hist_vist[['VH', 'Team_V', 'Final_V', 'O/U', 'ML_V']]\n",
    "\n",
    "hist_home = hist_odds.iloc[1::2]\n",
    "hist_home.index = range(533) \n",
    "hist_home.loc[:, 'VH'] = 1\n",
    "hist_home['Team_H'] = hist_home.loc[:, 'Team']\n",
    "hist_home['Final_H'] = hist_home.loc[:,'Final']\n",
    "hist_home['line'] = hist_home.loc[:, 'Open']\n",
    "hist_home['ML_H'] = hist_home.loc[:, 'ML']\n",
    "hist_home = hist_home[['VH', 'Team_H', 'Final_H', 'line', 'ML_H']]\n",
    "\n",
    "hist_odds = pd.merge(left = hist_vist, right = hist_home, left_index = True, right_index = True, how = \"outer\")\n",
    "hist_odds = hist_odds.replace('pk', 0)\n",
    "hold1 = hist_odds['O/U']\n",
    "hold2 = hist_odds['line']\n",
    "hist_odds['O/U'] = [i if abs(i) > abs(j) else j for i,j in zip(hold1,hold2)]\n",
    "hist_odds['line'] = [i if abs(i) < abs(j) else j for i,j in zip(hold1,hold2)]\n",
    "\n",
    "line_sign = [-1 if x >= 0 else 1 for x in hist_odds['ML_H']]\n",
    "hist_odds['line'] = hist_odds['line'] * line_sign\n",
    "hist_odds.to_csv(\"hist_odds.csv\")"
   ]
  },
  {
   "cell_type": "markdown",
   "metadata": {},
   "source": [
    "Today's lines"
   ]
  },
  {
   "cell_type": "code",
   "execution_count": 12,
   "metadata": {},
   "outputs": [],
   "source": [
    "URL = 'https://www.scoresandodds.com/nba'\n",
    "page = requests.get(URL)\n",
    "soup = BeautifulSoup(page.content, 'html.parser')\n",
    "ml = soup.find_all('span', class_ = 'data-moneyline')\n",
    "money_line = [int(line.text) for line in ml]\n",
    "team_name = soup.find_all('span', class_ = 'team-name')\n",
    "teams = [name.text[0:(len(name.text)-5)] for name in team_name]\n",
    "today_lines = {'teams': teams, 'ml' : money_line}\n",
    "today_lines = pd.DataFrame(today_lines)\n",
    "today_lines.to_csv(\"today_lines.csv\")"
   ]
  },
  {
   "cell_type": "markdown",
   "metadata": {},
   "source": [
    "Bet Sizing"
   ]
  },
  {
   "cell_type": "code",
   "execution_count": null,
   "metadata": {},
   "outputs": [],
   "source": [
    "init_money = 100\n",
    "prob_dif = pred_prob - bet_prob\n",
    "for prob_dif > .3:\n",
    "    kelly = pred_prob - (1-pred_prob)/bet_prob\n",
    "    bet = kelly * init_money\n",
    "    bet_win = (1+ bet_prob) * outcome * bet\n",
    "    init_money = bet_win + bet\n",
    "\n"
   ]
  }
 ],
 "metadata": {
  "kernelspec": {
   "display_name": "Python 3",
   "language": "python",
   "name": "python3"
  },
  "language_info": {
   "codemirror_mode": {
    "name": "ipython",
    "version": 3
   },
   "file_extension": ".py",
   "mimetype": "text/x-python",
   "name": "python",
   "nbconvert_exporter": "python",
   "pygments_lexer": "ipython3",
   "version": "3.7.1"
  }
 },
 "nbformat": 4,
 "nbformat_minor": 2
}
