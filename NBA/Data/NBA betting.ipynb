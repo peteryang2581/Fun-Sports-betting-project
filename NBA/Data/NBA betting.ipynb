{
 "cells": [
  {
   "cell_type": "code",
   "execution_count": 1,
   "metadata": {},
   "outputs": [],
   "source": [
    "import pandas as pd\n",
    "import requests\n",
    "from bs4 import BeautifulSoup\n",
    "\n"
   ]
  },
  {
   "cell_type": "code",
   "execution_count": null,
   "metadata": {},
   "outputs": [],
   "source": []
  },
  {
   "cell_type": "markdown",
   "metadata": {},
   "source": [
    "Historical season betting data"
   ]
  },
  {
   "cell_type": "code",
   "execution_count": 55,
   "metadata": {},
   "outputs": [
    {
     "name": "stdout",
     "output_type": "stream",
     "text": [
      "     VH_x        Team_V  Final_V    O/U  ML_V  VH_y      Team_H  Final_H  \\\n",
      "0       0   GoldenState       99  228.0   265     1    Brooklyn      125   \n",
      "1       0    LAClippers      116  223.0   115     1    LALakers      109   \n",
      "2       0     Charlotte      114  215.0  -140     1   Cleveland      121   \n",
      "3       0       NewYork      107  214.5   270     1     Indiana      121   \n",
      "4       0         Miami      107  220.5  -190     1     Orlando      113   \n",
      "..    ...           ...      ...    ...   ...   ...         ...      ...   \n",
      "528     0  OklahomaCity      107  218.5   230     1  SanAntonio      102   \n",
      "529     0         Miami      103  225.0  -130     1  NewOrleans       93   \n",
      "530     0    Sacramento      119  238.0   160     1    Portland      123   \n",
      "531     0       Detroit      104  211.0   245     1     NewYork      114   \n",
      "532     0   GoldenState       98  223.0   550     1     Phoenix      120   \n",
      "\n",
      "     line  ML_H  \n",
      "0     5.5  -320  \n",
      "1     2.5  -135  \n",
      "2    -1.0   120  \n",
      "3     8.5  -330  \n",
      "4    -3.5   170  \n",
      "..    ...   ...  \n",
      "528   6.0  -270  \n",
      "529  -3.5   110  \n",
      "530   5.0  -180  \n",
      "531   5.0  -290  \n",
      "532   5.0  -800  \n",
      "\n",
      "[533 rows x 10 columns]\n"
     ]
    },
    {
     "name": "stderr",
     "output_type": "stream",
     "text": [
      "C:\\Users\\thyang\\Anaconda3\\lib\\site-packages\\pandas\\core\\indexing.py:1763: SettingWithCopyWarning: \n",
      "A value is trying to be set on a copy of a slice from a DataFrame.\n",
      "Try using .loc[row_indexer,col_indexer] = value instead\n",
      "\n",
      "See the caveats in the documentation: https://pandas.pydata.org/pandas-docs/stable/user_guide/indexing.html#returning-a-view-versus-a-copy\n",
      "  isetter(loc, value)\n",
      "C:\\Users\\thyang\\Anaconda3\\lib\\site-packages\\ipykernel_launcher.py:5: SettingWithCopyWarning: \n",
      "A value is trying to be set on a copy of a slice from a DataFrame.\n",
      "Try using .loc[row_indexer,col_indexer] = value instead\n",
      "\n",
      "See the caveats in the documentation: https://pandas.pydata.org/pandas-docs/stable/user_guide/indexing.html#returning-a-view-versus-a-copy\n",
      "  \"\"\"\n",
      "C:\\Users\\thyang\\Anaconda3\\lib\\site-packages\\ipykernel_launcher.py:6: SettingWithCopyWarning: \n",
      "A value is trying to be set on a copy of a slice from a DataFrame.\n",
      "Try using .loc[row_indexer,col_indexer] = value instead\n",
      "\n",
      "See the caveats in the documentation: https://pandas.pydata.org/pandas-docs/stable/user_guide/indexing.html#returning-a-view-versus-a-copy\n",
      "  \n",
      "C:\\Users\\thyang\\Anaconda3\\lib\\site-packages\\ipykernel_launcher.py:7: SettingWithCopyWarning: \n",
      "A value is trying to be set on a copy of a slice from a DataFrame.\n",
      "Try using .loc[row_indexer,col_indexer] = value instead\n",
      "\n",
      "See the caveats in the documentation: https://pandas.pydata.org/pandas-docs/stable/user_guide/indexing.html#returning-a-view-versus-a-copy\n",
      "  import sys\n",
      "C:\\Users\\thyang\\Anaconda3\\lib\\site-packages\\ipykernel_launcher.py:8: SettingWithCopyWarning: \n",
      "A value is trying to be set on a copy of a slice from a DataFrame.\n",
      "Try using .loc[row_indexer,col_indexer] = value instead\n",
      "\n",
      "See the caveats in the documentation: https://pandas.pydata.org/pandas-docs/stable/user_guide/indexing.html#returning-a-view-versus-a-copy\n",
      "  \n",
      "C:\\Users\\thyang\\Anaconda3\\lib\\site-packages\\ipykernel_launcher.py:14: SettingWithCopyWarning: \n",
      "A value is trying to be set on a copy of a slice from a DataFrame.\n",
      "Try using .loc[row_indexer,col_indexer] = value instead\n",
      "\n",
      "See the caveats in the documentation: https://pandas.pydata.org/pandas-docs/stable/user_guide/indexing.html#returning-a-view-versus-a-copy\n",
      "  \n",
      "C:\\Users\\thyang\\Anaconda3\\lib\\site-packages\\ipykernel_launcher.py:15: SettingWithCopyWarning: \n",
      "A value is trying to be set on a copy of a slice from a DataFrame.\n",
      "Try using .loc[row_indexer,col_indexer] = value instead\n",
      "\n",
      "See the caveats in the documentation: https://pandas.pydata.org/pandas-docs/stable/user_guide/indexing.html#returning-a-view-versus-a-copy\n",
      "  from ipykernel import kernelapp as app\n",
      "C:\\Users\\thyang\\Anaconda3\\lib\\site-packages\\ipykernel_launcher.py:16: SettingWithCopyWarning: \n",
      "A value is trying to be set on a copy of a slice from a DataFrame.\n",
      "Try using .loc[row_indexer,col_indexer] = value instead\n",
      "\n",
      "See the caveats in the documentation: https://pandas.pydata.org/pandas-docs/stable/user_guide/indexing.html#returning-a-view-versus-a-copy\n",
      "  app.launch_new_instance()\n",
      "C:\\Users\\thyang\\Anaconda3\\lib\\site-packages\\ipykernel_launcher.py:17: SettingWithCopyWarning: \n",
      "A value is trying to be set on a copy of a slice from a DataFrame.\n",
      "Try using .loc[row_indexer,col_indexer] = value instead\n",
      "\n",
      "See the caveats in the documentation: https://pandas.pydata.org/pandas-docs/stable/user_guide/indexing.html#returning-a-view-versus-a-copy\n"
     ]
    }
   ],
   "source": [
    "hist_odds = pd.read_excel(\"nba odds 2020-21.xlsx\")\n",
    "hist_vist = hist_odds.iloc[::2]\n",
    "hist_vist.index = range(533) \n",
    "hist_vist.loc[:, 'VH'] = 0\n",
    "hist_vist['Team_V'] = hist_vist.loc[:, 'Team']\n",
    "hist_vist['Final_V'] = hist_vist.loc[:,'Final']\n",
    "hist_vist['O/U'] = hist_vist.loc[:,'Open']\n",
    "hist_vist['ML_V'] = hist_vist.loc[:,'ML']\n",
    "hist_vist = hist_vist[['VH', 'Team_V', 'Final_V', 'O/U', 'ML_V']]\n",
    "\n",
    "hist_home = hist_odds.iloc[1::2]\n",
    "hist_home.index = range(533) \n",
    "hist_home.loc[:, 'VH'] = 1\n",
    "hist_home['Team_H'] = hist_home.loc[:, 'Team']\n",
    "hist_home['Final_H'] = hist_home.loc[:,'Final']\n",
    "hist_home['line'] = hist_home.loc[:, 'Open']\n",
    "hist_home['ML_H'] = hist_home.loc[:, 'ML']\n",
    "hist_home = hist_home[['VH', 'Team_H', 'Final_H', 'line', 'ML_H']]\n",
    "\n",
    "hist_odds = pd.merge(left = hist_vist, right = hist_home, left_index = True, right_index = True, how = \"outer\")\n",
    "hist_odds[hist_odds['O/U'] == 'pk'] = 0\n",
    "hist_odds[hist_odds['line'] == 'pk'] = 0\n",
    "hold1 = hist_odds['O/U']\n",
    "hold2 = hist_odds['line']\n",
    "hist_odds['O/U'] = [i if abs(i) > abs(j) else j for i,j in zip(hold1,hold2)]\n",
    "hist_odds['line'] = [i if abs(i) < abs(j) else j for i,j in zip(hold1,hold2)]\n",
    "\n",
    "line_sign = [-1 if x >= 0 else 1 for x in hist_odds['ML_H']]\n",
    "hist_odds['line'] = hist_odds['line'] * line_sign\n"
   ]
  },
  {
   "cell_type": "markdown",
   "metadata": {},
   "source": [
    "Today's lines"
   ]
  },
  {
   "cell_type": "code",
   "execution_count": null,
   "metadata": {},
   "outputs": [],
   "source": []
  },
  {
   "cell_type": "markdown",
   "metadata": {},
   "source": [
    "Bet Sizing"
   ]
  },
  {
   "cell_type": "code",
   "execution_count": null,
   "metadata": {},
   "outputs": [],
   "source": [
    "init_money = 100\n",
    "prob_dif = pred_prob - bet_prob\n",
    "for prob_dif > .3:\n",
    "    kelly = pred_prob - (1-pred_prob)/bet_prob\n",
    "    bet = kelly * init_money\n",
    "    bet_win = (1+ bet_prob) * outcome * bet\n",
    "    init_money = bet_win + bet\n",
    "\n"
   ]
  }
 ],
 "metadata": {
  "kernelspec": {
   "display_name": "Python 3",
   "language": "python",
   "name": "python3"
  },
  "language_info": {
   "codemirror_mode": {
    "name": "ipython",
    "version": 3
   },
   "file_extension": ".py",
   "mimetype": "text/x-python",
   "name": "python",
   "nbconvert_exporter": "python",
   "pygments_lexer": "ipython3",
   "version": "3.7.1"
  }
 },
 "nbformat": 4,
 "nbformat_minor": 2
}
