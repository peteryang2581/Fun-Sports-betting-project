{
 "cells": [
  {
   "cell_type": "code",
   "execution_count": 5,
   "metadata": {},
   "outputs": [],
   "source": [
    "import pandas as pd\n",
    "adv_stats = pd.read_csv(\"adv_stats.csv\")\n",
    "hist_odds = pd.read_csv(\"hist_odds.csv\")\n",
    "mom_stats = pd.read_csv(\"momentum.csv\")\n",
    "today_lines = pd.read_csv(\"today_lines.csv\")\n",
    "team_id = {'Washington' : 1610612764, 'GoldenState' : 1610612744, 'Minnesota' : 1610612750, 'Houston' : 1610612745, 'Milwaukee' : 1610612749, 'Chicago' : 1610612741, 'Philadelphia': 1610612755, 'Memphis' : 1610612763, 'Brooklyn' : 1610612751, \n",
    "           'OklahomaCity' : 1610612760, 'Sacramento' : 1610612758, 'Charlotte' : 1610612766, 'Indiana' : 1610612754, 'Toronto': 1610612761, 'SanAntonio' : 1610612759, 'Orlando' : 1610612753, 'Utah' : 1610612762, 'NewOrleans' : 1610612740, 'LALakers': 1610612747, \n",
    "           'Portland' : 1610612757, 'Dallas' : 1610612742, 'Atlanta' : 1610612737, 'Boston' : 1610612738, 'Cleveland' : 1610612739, 'Detroit': 1610612765, 'Miami' : 1610612748, 'LAClippers' : 1610612746, 'Denver' : 1610612743, 'Phoenix' : 1610612756, 'NewYork' : 1610612752}\n",
    "hist_odds = hist_odds.replace(team_id)\n",
    "hist_odds['win'] = [1 if x > y else 0 for x,y in zip(hist_odds['Final_H'], hist_odds['Final_V'])]\n",
    "hist_odds['fav'] = [1 if x > y else 0 for x,y in zip(hist_odds['ML_H'], hist_odds['ML_V'])]\n",
    "home_team = hist_odds[[\"VH_y\", \"Team_H\", \"Final_H\"]]\n",
    "away_team = hist_odds[['VH_x', \"Team_V\", \"Final_V\"]]\n",
    "\n",
    "home_team = pd.merge(left = home_team, right = adv_stats, left_on = \"Team_H\", right_on = \"TEAM_ID\", how = \"left\")\n",
    "away_team = pd.merge(left = away_team, right = adv_stats, left_on = \"Team_V\", right_on = \"TEAM_ID\", how = \"left\")\n",
    "model_stats = pd.merge(left = home_team, right = away_team, left_index = True, right_index = True, how = \"outer\")\n",
    "model_stats['win'] = hist_odds['win']\n",
    "model_stats['fav'] = hist_odds['fav']\n",
    "model_stats.to_csv('model_stats.csv')"
   ]
  },
  {
   "cell_type": "code",
   "execution_count": 7,
   "metadata": {},
   "outputs": [],
   "source": [
    "to_keep = ['W_PCT_x', 'W_PCT_y', 'VH_y', 'E_OFF_RATING_x', 'E_OFF_RATING_y', 'E_DEF_RATING_x', 'E_DEF_RATING_y', 'E_NET_RATING_x', 'E_PACE_x', 'E_AST_RATIO_x', 'E_OREB_PCT_x' , 'E_DREB_PCT_x',\n",
    "           'E_REB_PCT_x', 'E_TM_TOV_PCT_x', 'E_NET_RATING_y' , 'E_PACE_y', 'E_AST_RATIO_y', 'E_OREB_PCT_y' ,'E_DREB_PCT_y', 'E_REB_PCT_y', 'E_TM_TOV_PCT_y', 'MIN_x', 'MIN_y', 'fav']\n",
    "model_stats_x = model_stats[to_keep]\n",
    "col_names = ['W_PCT_HOME', 'W_PCT_AWAY', 'home_team', 'E_OFF_RATING_HOME', 'E_OFF_RATING_AWAY', 'E_DEF_RATING_HOME', 'E_DEF_RATING_AWAY', 'E_NET_RATING_HOME', 'E_PACE_HOME', 'E_AST_RATIO_HOME', 'E_OREB_PCT_HOME' , 'E_DREB_PCT_HOME',\n",
    "           'E_REB_PCT_HOME', 'E_TM_TOV_PCT_HOME', 'E_NET_RATING_AWAY' , 'E_PACE_AWAY', 'E_AST_RATIO_AWAY', 'E_OREB_PCT_AWAY' ,'E_DREB_PCT_AWAY', 'E_REB_PCT_AWAY', 'E_TM_TOV_PCT_AWAY', 'MIN_HOME', 'MIN_AWAY', 'fav']\n",
    "model_stats_x.columns = col_names"
   ]
  },
  {
   "cell_type": "markdown",
   "metadata": {},
   "source": [
    "# Random Forest"
   ]
  },
  {
   "cell_type": "code",
   "execution_count": 9,
   "metadata": {},
   "outputs": [
    {
     "name": "stdout",
     "output_type": "stream",
     "text": [
      "Fitting 3 folds for each of 100 candidates, totalling 300 fits\n"
     ]
    }
   ],
   "source": [
    "from sklearn.ensemble import RandomForestRegressor\n",
    "from sklearn.model_selection import train_test_split\n",
    "import numpy as np\n",
    "from sklearn.model_selection import RandomizedSearchCV\n",
    "n_estimators = [int(x) for x in np.linspace(start = 200, stop = 2000, num = 10)]\n",
    "max_features = ['auto', 'sqrt']\n",
    "max_depth = [int(x) for x in np.linspace(10, 110, num = 11)]\n",
    "max_depth.append(None)\n",
    "min_samples_split = [2, 5, 10]\n",
    "min_samples_leaf = [1, 2, 4]\n",
    "bootstrap = [True, False]\n",
    "random_grid = {'n_estimators': n_estimators,\n",
    "               'max_features': max_features,\n",
    "               'max_depth': max_depth,\n",
    "               'min_samples_split': min_samples_split,\n",
    "               'min_samples_leaf': min_samples_leaf,\n",
    "               'bootstrap': bootstrap}\n",
    "X_train, X_test, y_train, y_test = train_test_split(model_stats_x, model_stats['Final_H'], test_size=0.2, random_state=300)\n",
    "rf = RandomForestRegressor()\n",
    "rf_random = RandomizedSearchCV(estimator = rf, param_distributions = random_grid, n_iter = 100, cv = 3, verbose=2, random_state=200, n_jobs = -1)\n",
    "rf_random.fit(X_train, y_train);\n"
   ]
  },
  {
   "cell_type": "code",
   "execution_count": null,
   "metadata": {},
   "outputs": [],
   "source": []
  }
 ],
 "metadata": {
  "kernelspec": {
   "display_name": "Python 3",
   "language": "python",
   "name": "python3"
  },
  "language_info": {
   "codemirror_mode": {
    "name": "ipython",
    "version": 3
   },
   "file_extension": ".py",
   "mimetype": "text/x-python",
   "name": "python",
   "nbconvert_exporter": "python",
   "pygments_lexer": "ipython3",
   "version": "3.7.1"
  }
 },
 "nbformat": 4,
 "nbformat_minor": 2
}
